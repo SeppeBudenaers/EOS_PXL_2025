{
 "cells": [
  {
   "cell_type": "code",
   "execution_count": 1,
   "id": "1fdda8d3",
   "metadata": {},
   "outputs": [
    {
     "data": {
      "application/javascript": [
       "\n",
       "try {\n",
       "require(['notebook/js/codecell'], function(codecell) {\n",
       "  codecell.CodeCell.options_default.highlight_modes[\n",
       "      'magic_text/x-csrc'] = {'reg':[/^%%microblaze/]};\n",
       "  Jupyter.notebook.events.one('kernel_ready.Kernel', function(){\n",
       "      Jupyter.notebook.get_cells().map(function(cell){\n",
       "          if (cell.cell_type == 'code'){ cell.auto_highlight(); } }) ;\n",
       "  });\n",
       "});\n",
       "} catch (e) {};\n"
      ]
     },
     "metadata": {},
     "output_type": "display_data"
    },
    {
     "data": {
      "application/javascript": [
       "\n",
       "try {\n",
       "require(['notebook/js/codecell'], function(codecell) {\n",
       "  codecell.CodeCell.options_default.highlight_modes[\n",
       "      'magic_text/x-csrc'] = {'reg':[/^%%pybind11/]};\n",
       "  Jupyter.notebook.events.one('kernel_ready.Kernel', function(){\n",
       "      Jupyter.notebook.get_cells().map(function(cell){\n",
       "          if (cell.cell_type == 'code'){ cell.auto_highlight(); } }) ;\n",
       "  });\n",
       "});\n",
       "} catch (e) {};\n"
      ]
     },
     "metadata": {},
     "output_type": "display_data"
    },
    {
     "name": "stdout",
     "output_type": "stream",
     "text": [
      "Help on Overlay in module pynq.overlay:\n",
      "\n",
      "<pynq.overlay.Overlay object>\n",
      "    Default documentation for overlay Interupt_Red_Filter.xsa. The following\n",
      "    attributes are available on this overlay:\n",
      "    \n",
      "    IP Blocks\n",
      "    ----------\n",
      "    axi_intc_0           : pynq.overlay.DefaultIP\n",
      "    vdma                 : pynq.lib.video.dma.AxiVDMA\n",
      "    v_tpg_0              : pynq.overlay.DefaultIP\n",
      "    processing_system7_0 : pynq.overlay.DefaultIP\n",
      "    \n",
      "    Hierarchies\n",
      "    -----------\n",
      "    RGB_Filter_0         : pynq.overlay.DefaultHierarchy\n",
      "    \n",
      "    Interrupts\n",
      "    ----------\n",
      "    None\n",
      "    \n",
      "    GPIO Outputs\n",
      "    ------------\n",
      "    None\n",
      "    \n",
      "    Memories\n",
      "    ------------\n",
      "    PSDDR                : Memory\n",
      "\n"
     ]
    }
   ],
   "source": [
    "import numpy as np\n",
    "import matplotlib.pyplot as plt \n",
    "import cv2\n",
    "\n",
    "from PIL import Image\n",
    "from math import ceil\n",
    "from pynq import Overlay, allocate\n",
    "\n",
    "%matplotlib inline \n",
    "\n",
    "XSA = \"Interupt_Red_Filter.xsa\"\n",
    "overlay = Overlay(XSA)\n",
    "help(overlay)"
   ]
  },
  {
   "cell_type": "code",
   "execution_count": 2,
   "id": "72909d33",
   "metadata": {},
   "outputs": [],
   "source": [
    "vdma = overlay.vdma"
   ]
  },
  {
   "cell_type": "code",
   "execution_count": 3,
   "id": "7876796c",
   "metadata": {},
   "outputs": [],
   "source": [
    "width, height = 1280, 720\n",
    "input_buffer = allocate(shape=(height,width,3), dtype=np.uint8, cacheable=1)\n",
    "adress_of_input_buffer = input_buffer.device_address\n",
    "\n",
    "vdma.write(0x00, 0x04)\n",
    "while vdma.read(0x00)& 0x4 == 4:\n",
    "    pass\n",
    "\n",
    "vdma.write(0x30, 0x04)\n",
    "while vdma.read(0x30)& 0x4 == 4:\n",
    "    pass\n",
    "\n",
    "# Config\n",
    "vdma.write(0x30, 0x8003)\n",
    "\n",
    "# Frame buffers\n",
    "vdma.write(0xAC, adress_of_input_buffer)\n",
    "vdma.write(0xB0, 0x102A4000)\n",
    "vdma.write(0xB4, 0x10548000)\n",
    "\n",
    "# HSIZE\n",
    "vdma.write(0xA8, width * 3)\n",
    "vdma.write(0xA4, width * 3)\n",
    "\n",
    "# VSIZE\n",
    "vdma.write(0xA0, height)\n",
    "\n",
    "# Read\n",
    "vdma.write(0x00, 0x8B)\n",
    "vdma.write(0x5C, adress_of_input_buffer)\n",
    "vdma.write(0x60, 0x102A4000)\n",
    "vdma.write(0x64, 0x10548000)\n",
    "vdma.write(0x58, width * 3)\n",
    "vdma.write(0x54, width * 3)\n",
    "vdma.write(0x50, height)"
   ]
  },
  {
   "cell_type": "code",
   "execution_count": null,
   "id": "21687778",
   "metadata": {},
   "outputs": [
    {
     "name": "stdout",
     "output_type": "stream",
     "text": [
      "starting stream\n",
      "RTSP stream opened successfully.\n"
     ]
    }
   ],
   "source": [
    "print(\"starting stream\")\n",
    "RTSP_URL = \"https://commondatastorage.googleapis.com/gtv-videos-bucket/sample/BigBuckBunny.mp4\"\n",
    "cap = cv2.VideoCapture(RTSP_URL)\n",
    "\n",
    "if not cap.isOpened():\n",
    "    print(\"Error: Unable to open the RTSP stream.\")\n",
    "    exit()\n",
    "\n",
    "print(\"RTSP stream opened successfully.\")\n",
    "\n",
    "while True:\n",
    "    ret, frame = cap.read()\n",
    "    if not ret:\n",
    "        print(\"Could not retrieve frame.\")\n",
    "        break\n",
    "    resized_frame = cv2.resize(frame, (width, height))\n",
    "    input_buffer[:] = np.array(resized_frame)"
   ]
  }
 ],
 "metadata": {
  "kernelspec": {
   "display_name": "Python 3 (ipykernel)",
   "language": "python",
   "name": "python3"
  },
  "language_info": {
   "codemirror_mode": {
    "name": "ipython",
    "version": 3
   },
   "file_extension": ".py",
   "mimetype": "text/x-python",
   "name": "python",
   "nbconvert_exporter": "python",
   "pygments_lexer": "ipython3",
   "version": "3.10.4"
  }
 },
 "nbformat": 4,
 "nbformat_minor": 5
}
